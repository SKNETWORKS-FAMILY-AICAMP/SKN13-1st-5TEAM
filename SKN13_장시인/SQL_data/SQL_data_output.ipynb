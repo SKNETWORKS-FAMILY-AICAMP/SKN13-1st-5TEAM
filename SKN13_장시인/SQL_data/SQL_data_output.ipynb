{
 "cells": [
  {
   "cell_type": "code",
   "execution_count": 4,
   "id": "4d32310d-c37a-47e4-89e0-cb6e6c0451b8",
   "metadata": {},
   "outputs": [
    {
     "ename": "SyntaxError",
     "evalue": "invalid syntax (514672887.py, line 1)",
     "output_type": "error",
     "traceback": [
      "  \u001b[36mCell\u001b[39m\u001b[36m \u001b[39m\u001b[32mIn[4]\u001b[39m\u001b[32m, line 1\u001b[39m\n\u001b[31m    \u001b[39m\u001b[31mCREATE DATABASE car_data;\u001b[39m\n           ^\n\u001b[31mSyntaxError\u001b[39m\u001b[31m:\u001b[39m invalid syntax\n"
     ]
    }
   ],
   "source": [
    "CREATE DATABASE car_data;"
   ]
  },
  {
   "cell_type": "code",
   "execution_count": 6,
   "id": "f69a275e-c7f3-4804-b99d-a7657292f81e",
   "metadata": {},
   "outputs": [
    {
     "name": "stdout",
     "output_type": "stream",
     "text": [
      "Collecting SQLAlchemy\n",
      "  Downloading sqlalchemy-2.0.40-cp312-cp312-win_amd64.whl.metadata (9.9 kB)\n",
      "Collecting greenlet>=1 (from SQLAlchemy)\n",
      "  Downloading greenlet-3.1.1-cp312-cp312-win_amd64.whl.metadata (3.9 kB)\n",
      "Requirement already satisfied: typing-extensions>=4.6.0 in c:\\users\\in\\miniconda3\\lib\\site-packages (from SQLAlchemy) (4.12.2)\n",
      "Downloading sqlalchemy-2.0.40-cp312-cp312-win_amd64.whl (2.1 MB)\n",
      "   ---------------------------------------- 0.0/2.1 MB ? eta -:--:--\n",
      "   ---------------------------------------- 2.1/2.1 MB 23.7 MB/s eta 0:00:00\n",
      "Downloading greenlet-3.1.1-cp312-cp312-win_amd64.whl (299 kB)\n",
      "Installing collected packages: greenlet, SQLAlchemy\n",
      "Successfully installed SQLAlchemy-2.0.40 greenlet-3.1.1\n",
      "Note: you may need to restart the kernel to use updated packages.\n"
     ]
    }
   ],
   "source": [
    "pip install SQLAlchemy"
   ]
  },
  {
   "cell_type": "markdown",
   "id": "f17039dc-be42-4499-a732-73a2ed0c8e7e",
   "metadata": {
    "scrolled": true
   },
   "source": [
    "# from sqlalchemy import create_engine\n",
    "import pandas as pd\n",
    "import pymysql\n",
    "from sqlalchemy import create_engine\n",
    "\n",
    "# CSV 파일 읽기\n",
    "df = pd.read_csv(\"2023_2024_car_data.csv\", encoding=\"utf-8-sig\")\n",
    "\n",
    "# MySQL 접속 정보 설정ㅂㅂ\n",
    "user = 'root'\n",
    "password = '1111'\n",
    "host = 'localhost'\n",
    "port = 3306\n",
    "database = 'car_data'\n",
    "\n",
    "# SQLAlchemy 엔진 생성\n",
    "engine = create_engine(f'mysql+pymysql://{user}:{password}@{host}:{port}/{database}')\n",
    "\n",
    "# DataFrame을 MySQL 테이블로 저장\n",
    "df.to_sql(name='car_sales', con=engine, if_exists='append', index=False)\n",
    "\n",
    "print(\"✅ MySQL에 데이터 업로드 완료\")"
   ]
  }
 ],
 "metadata": {
  "kernelspec": {
   "display_name": "Python 3 (ipykernel)",
   "language": "python",
   "name": "python3"
  },
  "language_info": {
   "codemirror_mode": {
    "name": "ipython",
    "version": 3
   },
   "file_extension": ".py",
   "mimetype": "text/x-python",
   "name": "python",
   "nbconvert_exporter": "python",
   "pygments_lexer": "ipython3",
   "version": "3.12.9"
  }
 },
 "nbformat": 4,
 "nbformat_minor": 5
}
