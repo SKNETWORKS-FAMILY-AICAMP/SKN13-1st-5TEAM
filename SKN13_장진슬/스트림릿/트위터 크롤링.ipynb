{
 "cells": [
  {
   "cell_type": "code",
   "execution_count": 1,
   "id": "e5257a9b-d80b-4069-9d93-e882b36477b0",
   "metadata": {},
   "outputs": [
    {
     "name": "stdout",
     "output_type": "stream",
     "text": [
      "Requirement already satisfied: selenium in /Users/jangjinseul/miniconda3/lib/python3.12/site-packages (4.31.0)\n",
      "Requirement already satisfied: pandas in /Users/jangjinseul/miniconda3/lib/python3.12/site-packages (2.2.3)\n",
      "Collecting PyPDF2\n",
      "  Downloading pypdf2-3.0.1-py3-none-any.whl.metadata (6.8 kB)\n",
      "Requirement already satisfied: beautifulsoup4 in /Users/jangjinseul/miniconda3/lib/python3.12/site-packages (4.13.3)\n",
      "Requirement already satisfied: urllib3<3,>=1.26 in /Users/jangjinseul/miniconda3/lib/python3.12/site-packages (from urllib3[socks]<3,>=1.26->selenium) (2.3.0)\n",
      "Requirement already satisfied: trio~=0.17 in /Users/jangjinseul/miniconda3/lib/python3.12/site-packages (from selenium) (0.29.0)\n",
      "Requirement already satisfied: trio-websocket~=0.9 in /Users/jangjinseul/miniconda3/lib/python3.12/site-packages (from selenium) (0.12.2)\n",
      "Requirement already satisfied: certifi>=2021.10.8 in /Users/jangjinseul/miniconda3/lib/python3.12/site-packages (from selenium) (2025.1.31)\n",
      "Requirement already satisfied: typing_extensions~=4.9 in /Users/jangjinseul/miniconda3/lib/python3.12/site-packages (from selenium) (4.12.2)\n",
      "Requirement already satisfied: websocket-client~=1.8 in /Users/jangjinseul/miniconda3/lib/python3.12/site-packages (from selenium) (1.8.0)\n",
      "Requirement already satisfied: numpy>=1.26.0 in /Users/jangjinseul/miniconda3/lib/python3.12/site-packages (from pandas) (2.2.4)\n",
      "Requirement already satisfied: python-dateutil>=2.8.2 in /Users/jangjinseul/miniconda3/lib/python3.12/site-packages (from pandas) (2.9.0.post0)\n",
      "Requirement already satisfied: pytz>=2020.1 in /Users/jangjinseul/miniconda3/lib/python3.12/site-packages (from pandas) (2025.2)\n",
      "Requirement already satisfied: tzdata>=2022.7 in /Users/jangjinseul/miniconda3/lib/python3.12/site-packages (from pandas) (2025.2)\n",
      "Requirement already satisfied: soupsieve>1.2 in /Users/jangjinseul/miniconda3/lib/python3.12/site-packages (from beautifulsoup4) (2.6)\n",
      "Requirement already satisfied: six>=1.5 in /Users/jangjinseul/miniconda3/lib/python3.12/site-packages (from python-dateutil>=2.8.2->pandas) (1.16.0)\n",
      "Requirement already satisfied: attrs>=23.2.0 in /Users/jangjinseul/miniconda3/lib/python3.12/site-packages (from trio~=0.17->selenium) (25.3.0)\n",
      "Requirement already satisfied: sortedcontainers in /Users/jangjinseul/miniconda3/lib/python3.12/site-packages (from trio~=0.17->selenium) (2.4.0)\n",
      "Requirement already satisfied: idna in /Users/jangjinseul/miniconda3/lib/python3.12/site-packages (from trio~=0.17->selenium) (3.7)\n",
      "Requirement already satisfied: outcome in /Users/jangjinseul/miniconda3/lib/python3.12/site-packages (from trio~=0.17->selenium) (1.3.0.post0)\n",
      "Requirement already satisfied: sniffio>=1.3.0 in /Users/jangjinseul/miniconda3/lib/python3.12/site-packages (from trio~=0.17->selenium) (1.3.1)\n",
      "Requirement already satisfied: wsproto>=0.14 in /Users/jangjinseul/miniconda3/lib/python3.12/site-packages (from trio-websocket~=0.9->selenium) (1.2.0)\n",
      "Requirement already satisfied: pysocks!=1.5.7,<2.0,>=1.5.6 in /Users/jangjinseul/miniconda3/lib/python3.12/site-packages (from urllib3[socks]<3,>=1.26->selenium) (1.7.1)\n",
      "Requirement already satisfied: h11<1,>=0.9.0 in /Users/jangjinseul/miniconda3/lib/python3.12/site-packages (from wsproto>=0.14->trio-websocket~=0.9->selenium) (0.14.0)\n",
      "Downloading pypdf2-3.0.1-py3-none-any.whl (232 kB)\n",
      "Installing collected packages: PyPDF2\n",
      "Successfully installed PyPDF2-3.0.1\n",
      "Note: you may need to restart the kernel to use updated packages.\n"
     ]
    }
   ],
   "source": [
    "pip install selenium pandas PyPDF2 beautifulsoup4"
   ]
  },
  {
   "cell_type": "code",
   "execution_count": 2,
   "id": "a23e8f29-08a1-4694-ba94-73229adba71b",
   "metadata": {},
   "outputs": [
    {
     "name": "stdout",
     "output_type": "stream",
     "text": [
      "Requirement already satisfied: snscrape in /Users/jangjinseul/miniconda3/lib/python3.12/site-packages (0.7.0.20230622)\n",
      "Requirement already satisfied: requests[socks] in /Users/jangjinseul/miniconda3/lib/python3.12/site-packages (from snscrape) (2.32.3)\n",
      "Requirement already satisfied: lxml in /Users/jangjinseul/miniconda3/lib/python3.12/site-packages (from snscrape) (5.3.2)\n",
      "Requirement already satisfied: beautifulsoup4 in /Users/jangjinseul/miniconda3/lib/python3.12/site-packages (from snscrape) (4.13.3)\n",
      "Requirement already satisfied: filelock in /Users/jangjinseul/miniconda3/lib/python3.12/site-packages (from snscrape) (3.18.0)\n",
      "Requirement already satisfied: soupsieve>1.2 in /Users/jangjinseul/miniconda3/lib/python3.12/site-packages (from beautifulsoup4->snscrape) (2.6)\n",
      "Requirement already satisfied: typing-extensions>=4.0.0 in /Users/jangjinseul/miniconda3/lib/python3.12/site-packages (from beautifulsoup4->snscrape) (4.12.2)\n",
      "Requirement already satisfied: charset-normalizer<4,>=2 in /Users/jangjinseul/miniconda3/lib/python3.12/site-packages (from requests[socks]->snscrape) (3.3.2)\n",
      "Requirement already satisfied: idna<4,>=2.5 in /Users/jangjinseul/miniconda3/lib/python3.12/site-packages (from requests[socks]->snscrape) (3.7)\n",
      "Requirement already satisfied: urllib3<3,>=1.21.1 in /Users/jangjinseul/miniconda3/lib/python3.12/site-packages (from requests[socks]->snscrape) (2.3.0)\n",
      "Requirement already satisfied: certifi>=2017.4.17 in /Users/jangjinseul/miniconda3/lib/python3.12/site-packages (from requests[socks]->snscrape) (2025.1.31)\n",
      "Requirement already satisfied: PySocks!=1.5.7,>=1.5.6 in /Users/jangjinseul/miniconda3/lib/python3.12/site-packages (from requests[socks]->snscrape) (1.7.1)\n",
      "Note: you may need to restart the kernel to use updated packages.\n"
     ]
    }
   ],
   "source": [
    "pip install snscrape\n"
   ]
  },
  {
   "cell_type": "code",
   "execution_count": 6,
   "id": "9a48b3e1-3f26-4a0a-89eb-f3e5f84d55ac",
   "metadata": {},
   "outputs": [],
   "source": [
    "pdf_links: (\n",
    "\"https://x.com/RedcarWorker/status/1884438611892002832\",  \n",
    "\"https://x.com/dcyu41/status/1833124532036809109\", \n",
    "\"https://x.com/DrOMD/status/1884391832110666207\",    \n",
    "\"https://x.com/unniecar/status/1799317501131759743\",  \n",
    "\"https://x.com/jayinfrozen/status/1832312685893185879\",  \n",
    "\"https://x.com/saemirae24/status/1819531443108041143\", \n",
    "\"https://x.com/zesize/status/1770371301460656463\") \n"
   ]
  },
  {
   "cell_type": "code",
   "execution_count": 11,
   "id": "ac670a24-b2dd-4ef7-b97b-1fe102620a50",
   "metadata": {},
   "outputs": [
    {
     "ename": "WebDriverException",
     "evalue": "Message: Service /Users/jangjinseul/.wdm/drivers/chromedriver/mac64/135.0.7049.84/chromedriver-mac-arm64/chromedriver unexpectedly exited. Status code was: -9\n",
     "output_type": "error",
     "traceback": [
      "\u001b[0;31m---------------------------------------------------------------------------\u001b[0m",
      "\u001b[0;31mWebDriverException\u001b[0m                        Traceback (most recent call last)",
      "Cell \u001b[0;32mIn[11], line 18\u001b[0m\n\u001b[1;32m     15\u001b[0m options\u001b[38;5;241m.\u001b[39madd_argument(\u001b[38;5;124m'\u001b[39m\u001b[38;5;124m--lang=ko-KR\u001b[39m\u001b[38;5;124m'\u001b[39m)\n\u001b[1;32m     17\u001b[0m \u001b[38;5;66;03m# 드라이버 실행\u001b[39;00m\n\u001b[0;32m---> 18\u001b[0m driver \u001b[38;5;241m=\u001b[39m webdriver\u001b[38;5;241m.\u001b[39mChrome(service\u001b[38;5;241m=\u001b[39mService(ChromeDriverManager()\u001b[38;5;241m.\u001b[39minstall()), options\u001b[38;5;241m=\u001b[39moptions)\n\u001b[1;32m     20\u001b[0m \u001b[38;5;66;03m# 타겟 트윗 링크들\u001b[39;00m\n\u001b[1;32m     21\u001b[0m pdf_links \u001b[38;5;241m=\u001b[39m [\n\u001b[1;32m     22\u001b[0m     \u001b[38;5;124m\"\u001b[39m\u001b[38;5;124mhttps://x.com/RedcarWorker/status/1884438611892002832\u001b[39m\u001b[38;5;124m\"\u001b[39m,  \n\u001b[1;32m     23\u001b[0m     \u001b[38;5;124m\"\u001b[39m\u001b[38;5;124mhttps://x.com/dcyu41/status/1833124532036809109\u001b[39m\u001b[38;5;124m\"\u001b[39m, \n\u001b[0;32m   (...)\u001b[0m\n\u001b[1;32m     26\u001b[0m     \u001b[38;5;124m\"\u001b[39m\u001b[38;5;124mhttps://x.com/jayinfrozen/status/1832312685893185879\u001b[39m\u001b[38;5;124m\"\u001b[39m,  \n\u001b[1;32m     27\u001b[0m     \u001b[38;5;124m\"\u001b[39m\u001b[38;5;124mhttps://x.com/saem\u001b[39m\u001b[38;5;124m\"\u001b[39m]\n",
      "File \u001b[0;32m~/miniconda3/lib/python3.12/site-packages/selenium/webdriver/chrome/webdriver.py:45\u001b[0m, in \u001b[0;36mWebDriver.__init__\u001b[0;34m(self, options, service, keep_alive)\u001b[0m\n\u001b[1;32m     42\u001b[0m service \u001b[38;5;241m=\u001b[39m service \u001b[38;5;28;01mif\u001b[39;00m service \u001b[38;5;28;01melse\u001b[39;00m Service()\n\u001b[1;32m     43\u001b[0m options \u001b[38;5;241m=\u001b[39m options \u001b[38;5;28;01mif\u001b[39;00m options \u001b[38;5;28;01melse\u001b[39;00m Options()\n\u001b[0;32m---> 45\u001b[0m \u001b[38;5;28msuper\u001b[39m()\u001b[38;5;241m.\u001b[39m\u001b[38;5;21m__init__\u001b[39m(\n\u001b[1;32m     46\u001b[0m     browser_name\u001b[38;5;241m=\u001b[39mDesiredCapabilities\u001b[38;5;241m.\u001b[39mCHROME[\u001b[38;5;124m\"\u001b[39m\u001b[38;5;124mbrowserName\u001b[39m\u001b[38;5;124m\"\u001b[39m],\n\u001b[1;32m     47\u001b[0m     vendor_prefix\u001b[38;5;241m=\u001b[39m\u001b[38;5;124m\"\u001b[39m\u001b[38;5;124mgoog\u001b[39m\u001b[38;5;124m\"\u001b[39m,\n\u001b[1;32m     48\u001b[0m     options\u001b[38;5;241m=\u001b[39moptions,\n\u001b[1;32m     49\u001b[0m     service\u001b[38;5;241m=\u001b[39mservice,\n\u001b[1;32m     50\u001b[0m     keep_alive\u001b[38;5;241m=\u001b[39mkeep_alive,\n\u001b[1;32m     51\u001b[0m )\n",
      "File \u001b[0;32m~/miniconda3/lib/python3.12/site-packages/selenium/webdriver/chromium/webdriver.py:55\u001b[0m, in \u001b[0;36mChromiumDriver.__init__\u001b[0;34m(self, browser_name, vendor_prefix, options, service, keep_alive)\u001b[0m\n\u001b[1;32m     52\u001b[0m     options\u001b[38;5;241m.\u001b[39mbrowser_version \u001b[38;5;241m=\u001b[39m \u001b[38;5;28;01mNone\u001b[39;00m\n\u001b[1;32m     54\u001b[0m \u001b[38;5;28mself\u001b[39m\u001b[38;5;241m.\u001b[39mservice\u001b[38;5;241m.\u001b[39mpath \u001b[38;5;241m=\u001b[39m \u001b[38;5;28mself\u001b[39m\u001b[38;5;241m.\u001b[39mservice\u001b[38;5;241m.\u001b[39menv_path() \u001b[38;5;129;01mor\u001b[39;00m finder\u001b[38;5;241m.\u001b[39mget_driver_path()\n\u001b[0;32m---> 55\u001b[0m \u001b[38;5;28mself\u001b[39m\u001b[38;5;241m.\u001b[39mservice\u001b[38;5;241m.\u001b[39mstart()\n\u001b[1;32m     57\u001b[0m executor \u001b[38;5;241m=\u001b[39m ChromiumRemoteConnection(\n\u001b[1;32m     58\u001b[0m     remote_server_addr\u001b[38;5;241m=\u001b[39m\u001b[38;5;28mself\u001b[39m\u001b[38;5;241m.\u001b[39mservice\u001b[38;5;241m.\u001b[39mservice_url,\n\u001b[1;32m     59\u001b[0m     browser_name\u001b[38;5;241m=\u001b[39mbrowser_name,\n\u001b[0;32m   (...)\u001b[0m\n\u001b[1;32m     62\u001b[0m     ignore_proxy\u001b[38;5;241m=\u001b[39moptions\u001b[38;5;241m.\u001b[39m_ignore_local_proxy,\n\u001b[1;32m     63\u001b[0m )\n\u001b[1;32m     65\u001b[0m \u001b[38;5;28;01mtry\u001b[39;00m:\n",
      "File \u001b[0;32m~/miniconda3/lib/python3.12/site-packages/selenium/webdriver/common/service.py:113\u001b[0m, in \u001b[0;36mService.start\u001b[0;34m(self)\u001b[0m\n\u001b[1;32m    111\u001b[0m count \u001b[38;5;241m=\u001b[39m \u001b[38;5;241m0\u001b[39m\n\u001b[1;32m    112\u001b[0m \u001b[38;5;28;01mwhile\u001b[39;00m \u001b[38;5;28;01mTrue\u001b[39;00m:\n\u001b[0;32m--> 113\u001b[0m     \u001b[38;5;28mself\u001b[39m\u001b[38;5;241m.\u001b[39massert_process_still_running()\n\u001b[1;32m    114\u001b[0m     \u001b[38;5;28;01mif\u001b[39;00m \u001b[38;5;28mself\u001b[39m\u001b[38;5;241m.\u001b[39mis_connectable():\n\u001b[1;32m    115\u001b[0m         \u001b[38;5;28;01mbreak\u001b[39;00m\n",
      "File \u001b[0;32m~/miniconda3/lib/python3.12/site-packages/selenium/webdriver/common/service.py:126\u001b[0m, in \u001b[0;36mService.assert_process_still_running\u001b[0;34m(self)\u001b[0m\n\u001b[1;32m    124\u001b[0m return_code \u001b[38;5;241m=\u001b[39m \u001b[38;5;28mself\u001b[39m\u001b[38;5;241m.\u001b[39mprocess\u001b[38;5;241m.\u001b[39mpoll()\n\u001b[1;32m    125\u001b[0m \u001b[38;5;28;01mif\u001b[39;00m return_code:\n\u001b[0;32m--> 126\u001b[0m     \u001b[38;5;28;01mraise\u001b[39;00m WebDriverException(\u001b[38;5;124mf\u001b[39m\u001b[38;5;124m\"\u001b[39m\u001b[38;5;124mService \u001b[39m\u001b[38;5;132;01m{\u001b[39;00m\u001b[38;5;28mself\u001b[39m\u001b[38;5;241m.\u001b[39m_path\u001b[38;5;132;01m}\u001b[39;00m\u001b[38;5;124m unexpectedly exited. Status code was: \u001b[39m\u001b[38;5;132;01m{\u001b[39;00mreturn_code\u001b[38;5;132;01m}\u001b[39;00m\u001b[38;5;124m\"\u001b[39m)\n",
      "\u001b[0;31mWebDriverException\u001b[0m: Message: Service /Users/jangjinseul/.wdm/drivers/chromedriver/mac64/135.0.7049.84/chromedriver-mac-arm64/chromedriver unexpectedly exited. Status code was: -9\n"
     ]
    }
   ],
   "source": [
    "from selenium import webdriver\n",
    "from selenium.webdriver.chrome.service import Service\n",
    "from selenium.webdriver.chrome.options import Options\n",
    "from selenium.webdriver.common.by import By\n",
    "from webdriver_manager.chrome import ChromeDriverManager\n",
    "import time\n",
    "import csv\n",
    "\n",
    "# 크롬 드라이버 옵션 설정\n",
    "options = Options()\n",
    "#options.add_argument(\"--headless=new\")  # 브라우저 띄우지 않음 (필요 없으면 제거)\n",
    "options.add_argument(\"--disable-gpu\")\n",
    "options.add_argument(\"--no-sandbox\")\n",
    "options.add_argument(\"--window-size=1920,1080\")\n",
    "options.add_argument('--lang=ko-KR')\n",
    "\n",
    "# 드라이버 실행\n",
    "driver = webdriver.Chrome(service=Service(ChromeDriverManager().install()), options=options)\n",
    "\n",
    "# 타겟 트윗 링크들\n",
    "pdf_links = [\n",
    "    \"https://x.com/RedcarWorker/status/1884438611892002832\",  \n",
    "    \"https://x.com/dcyu41/status/1833124532036809109\", \n",
    "    \"https://x.com/DrOMD/status/1884391832110666207\",    \n",
    "    \"https://x.com/unniecar/status/1799317501131759743\",  \n",
    "    \"https://x.com/jayinfrozen/status/1832312685893185879\",  \n",
    "    \"https://x.com/saem\"]\n",
    "\n",
    "\n",
    "for url in pdf_links:\n",
    "    print(f\"크롤링 중: {url}\")\n",
    "    try:\n",
    "        driver.get(url)\n",
    "        time.sleep(5)  # 로딩 대기\n",
    "\n",
    "        # 트윗 본문 찾기 (X.com 구조 변경에 따라 CSS 선택자 업데이트됨)\n",
    "        tweet = driver.find_element(By.CSS_SELECTOR, 'article [data-testid=\"tweetText\"]')\n",
    "        text = tweet.text.strip()\n",
    "        print(f\"→ 내용: {text[:30]}...\")  # 앞부분만 출력\n",
    "        results.append({\"url\": url, \"text\": text})\n",
    "    except Exception as e:\n",
    "        print(f\"❌ 실패: {url} → {e}\")\n",
    "        results.append({\"url\": url, \"text\": \"크롤링 실패\"})\n",
    "\n",
    "# 드라이버 종료\n",
    "driver.quit()\n",
    "\n",
    "# 결과를 CSV로 저장\n",
    "output_path = \"tweet_contents.csv\"\n",
    "with open(output_path, \"w\", encoding=\"utf-8-sig\", newline=\"\") as f:\n",
    "    writer = csv.DictWriter(f, fieldnames=[\"url\", \"text\"])\n",
    "    writer.writeheader()\n",
    "    writer.writerows(results)\n",
    "|\n",
    "print(f\"\\n✅ 크롤링 완료. 결과 저장: {output_path}\")\n",
    "\n"
   ]
  },
  {
   "cell_type": "code",
   "execution_count": 12,
   "id": "af8e0766-0a14-4273-b06a-df229bcad0a2",
   "metadata": {},
   "outputs": [
    {
     "ename": "NoSuchDriverException",
     "evalue": "Message: Unable to obtain driver for chrome; For documentation on this error, please visit: https://www.selenium.dev/documentation/webdriver/troubleshooting/errors/driver_location\n",
     "output_type": "error",
     "traceback": [
      "\u001b[0;31m---------------------------------------------------------------------------\u001b[0m",
      "\u001b[0;31mValueError\u001b[0m                                Traceback (most recent call last)",
      "File \u001b[0;32m~/miniconda3/lib/python3.12/site-packages/selenium/webdriver/common/driver_finder.py:64\u001b[0m, in \u001b[0;36mDriverFinder._binary_paths\u001b[0;34m(self)\u001b[0m\n\u001b[1;32m     63\u001b[0m \u001b[38;5;28;01mif\u001b[39;00m \u001b[38;5;129;01mnot\u001b[39;00m Path(path)\u001b[38;5;241m.\u001b[39mis_file():\n\u001b[0;32m---> 64\u001b[0m     \u001b[38;5;28;01mraise\u001b[39;00m \u001b[38;5;167;01mValueError\u001b[39;00m(\u001b[38;5;124mf\u001b[39m\u001b[38;5;124m\"\u001b[39m\u001b[38;5;124mThe path is not a valid file: \u001b[39m\u001b[38;5;132;01m{\u001b[39;00mpath\u001b[38;5;132;01m}\u001b[39;00m\u001b[38;5;124m\"\u001b[39m)\n\u001b[1;32m     65\u001b[0m \u001b[38;5;28mself\u001b[39m\u001b[38;5;241m.\u001b[39m_paths[\u001b[38;5;124m\"\u001b[39m\u001b[38;5;124mdriver_path\u001b[39m\u001b[38;5;124m\"\u001b[39m] \u001b[38;5;241m=\u001b[39m path\n",
      "\u001b[0;31mValueError\u001b[0m: The path is not a valid file: /opt/homebrew/bin/chromedriver",
      "\nThe above exception was the direct cause of the following exception:\n",
      "\u001b[0;31mNoSuchDriverException\u001b[0m                     Traceback (most recent call last)",
      "Cell \u001b[0;32mIn[12], line 17\u001b[0m\n\u001b[1;32m     14\u001b[0m \u001b[38;5;66;03m# ✅ 경로를 직접 명시\u001b[39;00m\n\u001b[1;32m     15\u001b[0m service \u001b[38;5;241m=\u001b[39m Service(\u001b[38;5;124m\"\u001b[39m\u001b[38;5;124m/opt/homebrew/bin/chromedriver\u001b[39m\u001b[38;5;124m\"\u001b[39m)  \u001b[38;5;66;03m# 또는 본인의 경로로\u001b[39;00m\n\u001b[0;32m---> 17\u001b[0m driver \u001b[38;5;241m=\u001b[39m webdriver\u001b[38;5;241m.\u001b[39mChrome(service\u001b[38;5;241m=\u001b[39mservice, options\u001b[38;5;241m=\u001b[39moptions)\n",
      "File \u001b[0;32m~/miniconda3/lib/python3.12/site-packages/selenium/webdriver/chrome/webdriver.py:45\u001b[0m, in \u001b[0;36mWebDriver.__init__\u001b[0;34m(self, options, service, keep_alive)\u001b[0m\n\u001b[1;32m     42\u001b[0m service \u001b[38;5;241m=\u001b[39m service \u001b[38;5;28;01mif\u001b[39;00m service \u001b[38;5;28;01melse\u001b[39;00m Service()\n\u001b[1;32m     43\u001b[0m options \u001b[38;5;241m=\u001b[39m options \u001b[38;5;28;01mif\u001b[39;00m options \u001b[38;5;28;01melse\u001b[39;00m Options()\n\u001b[0;32m---> 45\u001b[0m \u001b[38;5;28msuper\u001b[39m()\u001b[38;5;241m.\u001b[39m\u001b[38;5;21m__init__\u001b[39m(\n\u001b[1;32m     46\u001b[0m     browser_name\u001b[38;5;241m=\u001b[39mDesiredCapabilities\u001b[38;5;241m.\u001b[39mCHROME[\u001b[38;5;124m\"\u001b[39m\u001b[38;5;124mbrowserName\u001b[39m\u001b[38;5;124m\"\u001b[39m],\n\u001b[1;32m     47\u001b[0m     vendor_prefix\u001b[38;5;241m=\u001b[39m\u001b[38;5;124m\"\u001b[39m\u001b[38;5;124mgoog\u001b[39m\u001b[38;5;124m\"\u001b[39m,\n\u001b[1;32m     48\u001b[0m     options\u001b[38;5;241m=\u001b[39moptions,\n\u001b[1;32m     49\u001b[0m     service\u001b[38;5;241m=\u001b[39mservice,\n\u001b[1;32m     50\u001b[0m     keep_alive\u001b[38;5;241m=\u001b[39mkeep_alive,\n\u001b[1;32m     51\u001b[0m )\n",
      "File \u001b[0;32m~/miniconda3/lib/python3.12/site-packages/selenium/webdriver/chromium/webdriver.py:50\u001b[0m, in \u001b[0;36mChromiumDriver.__init__\u001b[0;34m(self, browser_name, vendor_prefix, options, service, keep_alive)\u001b[0m\n\u001b[1;32m     47\u001b[0m \u001b[38;5;28mself\u001b[39m\u001b[38;5;241m.\u001b[39mservice \u001b[38;5;241m=\u001b[39m service\n\u001b[1;32m     49\u001b[0m finder \u001b[38;5;241m=\u001b[39m DriverFinder(\u001b[38;5;28mself\u001b[39m\u001b[38;5;241m.\u001b[39mservice, options)\n\u001b[0;32m---> 50\u001b[0m \u001b[38;5;28;01mif\u001b[39;00m finder\u001b[38;5;241m.\u001b[39mget_browser_path():\n\u001b[1;32m     51\u001b[0m     options\u001b[38;5;241m.\u001b[39mbinary_location \u001b[38;5;241m=\u001b[39m finder\u001b[38;5;241m.\u001b[39mget_browser_path()\n\u001b[1;32m     52\u001b[0m     options\u001b[38;5;241m.\u001b[39mbrowser_version \u001b[38;5;241m=\u001b[39m \u001b[38;5;28;01mNone\u001b[39;00m\n",
      "File \u001b[0;32m~/miniconda3/lib/python3.12/site-packages/selenium/webdriver/common/driver_finder.py:47\u001b[0m, in \u001b[0;36mDriverFinder.get_browser_path\u001b[0;34m(self)\u001b[0m\n\u001b[1;32m     46\u001b[0m \u001b[38;5;28;01mdef\u001b[39;00m \u001b[38;5;21mget_browser_path\u001b[39m(\u001b[38;5;28mself\u001b[39m) \u001b[38;5;241m-\u001b[39m\u001b[38;5;241m>\u001b[39m \u001b[38;5;28mstr\u001b[39m:\n\u001b[0;32m---> 47\u001b[0m     \u001b[38;5;28;01mreturn\u001b[39;00m \u001b[38;5;28mself\u001b[39m\u001b[38;5;241m.\u001b[39m_binary_paths()[\u001b[38;5;124m\"\u001b[39m\u001b[38;5;124mbrowser_path\u001b[39m\u001b[38;5;124m\"\u001b[39m]\n",
      "File \u001b[0;32m~/miniconda3/lib/python3.12/site-packages/selenium/webdriver/common/driver_finder.py:78\u001b[0m, in \u001b[0;36mDriverFinder._binary_paths\u001b[0;34m(self)\u001b[0m\n\u001b[1;32m     76\u001b[0m \u001b[38;5;28;01mexcept\u001b[39;00m \u001b[38;5;167;01mException\u001b[39;00m \u001b[38;5;28;01mas\u001b[39;00m err:\n\u001b[1;32m     77\u001b[0m     msg \u001b[38;5;241m=\u001b[39m \u001b[38;5;124mf\u001b[39m\u001b[38;5;124m\"\u001b[39m\u001b[38;5;124mUnable to obtain driver for \u001b[39m\u001b[38;5;132;01m{\u001b[39;00mbrowser\u001b[38;5;132;01m}\u001b[39;00m\u001b[38;5;124m\"\u001b[39m\n\u001b[0;32m---> 78\u001b[0m     \u001b[38;5;28;01mraise\u001b[39;00m NoSuchDriverException(msg) \u001b[38;5;28;01mfrom\u001b[39;00m \u001b[38;5;21;01merr\u001b[39;00m\n\u001b[1;32m     79\u001b[0m \u001b[38;5;28;01mreturn\u001b[39;00m \u001b[38;5;28mself\u001b[39m\u001b[38;5;241m.\u001b[39m_paths\n",
      "\u001b[0;31mNoSuchDriverException\u001b[0m: Message: Unable to obtain driver for chrome; For documentation on this error, please visit: https://www.selenium.dev/documentation/webdriver/troubleshooting/errors/driver_location\n"
     ]
    }
   ],
   "source": [
    "from selenium import webdriver\n",
    "from selenium.webdriver.chrome.service import Service\n",
    "from selenium.webdriver.chrome.options import Options\n",
    "from selenium.webdriver.common.by import By\n",
    "import time, csv\n",
    "\n",
    "options = Options()\n",
    "# options.add_argument(\"--headless=new\")  # 테스트 중엔 주석!\n",
    "options.add_argument(\"--disable-gpu\")\n",
    "options.add_argument(\"--no-sandbox\")\n",
    "options.add_argument(\"--window-size=1920,1080\")\n",
    "options.add_argument('--lang=ko-KR')\n",
    "\n",
    "# ✅ 경로를 직접 명시\n",
    "service = Service(\"/opt/homebrew/bin/chromedriver\")  # 또는 본인의 경로로\n",
    "\n",
    "driver = webdriver.Chrome(service=service, options=options)\n"
   ]
  },
  {
   "cell_type": "code",
   "execution_count": 13,
   "id": "c350b680-ad10-4c83-8f6c-3d493ef53a64",
   "metadata": {},
   "outputs": [
    {
     "ename": "TypeError",
     "evalue": "ChromeDriverManager.__init__() got an unexpected keyword argument 'version'",
     "output_type": "error",
     "traceback": [
      "\u001b[0;31m---------------------------------------------------------------------------\u001b[0m",
      "\u001b[0;31mTypeError\u001b[0m                                 Traceback (most recent call last)",
      "Cell \u001b[0;32mIn[13], line 4\u001b[0m\n\u001b[1;32m      1\u001b[0m \u001b[38;5;28;01mfrom\u001b[39;00m \u001b[38;5;21;01mwebdriver_manager\u001b[39;00m\u001b[38;5;21;01m.\u001b[39;00m\u001b[38;5;21;01mchrome\u001b[39;00m \u001b[38;5;28;01mimport\u001b[39;00m ChromeDriverManager\n\u001b[1;32m      3\u001b[0m driver \u001b[38;5;241m=\u001b[39m webdriver\u001b[38;5;241m.\u001b[39mChrome(\n\u001b[0;32m----> 4\u001b[0m     service\u001b[38;5;241m=\u001b[39mService(ChromeDriverManager(version\u001b[38;5;241m=\u001b[39m\u001b[38;5;124m\"\u001b[39m\u001b[38;5;124m124.0.6367.60\u001b[39m\u001b[38;5;124m\"\u001b[39m)\u001b[38;5;241m.\u001b[39minstall()),  \u001b[38;5;66;03m# 버전은 브라우저와 맞춰서!\u001b[39;00m\n\u001b[1;32m      5\u001b[0m     options\u001b[38;5;241m=\u001b[39moptions\n\u001b[1;32m      6\u001b[0m )\n",
      "\u001b[0;31mTypeError\u001b[0m: ChromeDriverManager.__init__() got an unexpected keyword argument 'version'"
     ]
    }
   ],
   "source": [
    "from webdriver_manager.chrome import ChromeDriverManager\n",
    "\n",
    "driver = webdriver.Chrome(\n",
    "    service=Service(ChromeDriverManager(version=\"124.0.6367.60\").install()),  # 버전은 브라우저와 맞춰서!\n",
    "    options=options\n",
    ")\n"
   ]
  },
  {
   "cell_type": "code",
   "execution_count": 14,
   "id": "8feccb93-9878-40f4-b85a-aa1675a5ecc3",
   "metadata": {},
   "outputs": [
    {
     "name": "stdout",
     "output_type": "stream",
     "text": [
      "\n",
      "🔎 크롤링 중: https://x.com/RedcarWorker/status/1884438611892002832\n",
      "→ 내용: '연두색 번호판' 도입 이후, 고급 법인차 수요가 많이...\n",
      "\n",
      "🔎 크롤링 중: https://x.com/dcyu41/status/1833124532036809109\n",
      "→ 내용: 법인 차량은 전부 연두색 번호판을 달아야지 무슨 금액으...\n",
      "\n",
      "🔎 크롤링 중: https://x.com/DrOMD/status/1884391832110666207\n",
      "→ 내용: 이 뉴스 너무 한국적인 기사다. 1억원 이상 고가 수입...\n",
      "\n",
      "🔎 크롤링 중: https://x.com/unniecar/status/1799317501131759743\n",
      "→ 내용: 8천만원 이상 법인차는 번호판이 연두색으로 바뀌었는데,...\n",
      "\n",
      "🔎 크롤링 중: https://x.com/jayinfrozen/status/1832312685893185879\n",
      "→ 내용: 연두색 번호판 외제고급차에 개큰편견있음...\n",
      "\n",
      "🔎 크롤링 중: https://x.com/saemirae24/status/1819531443108041143\n",
      "→ 내용: 이거 아이디어 좋은데요?\n",
      "연두색 법인 번호판 자동차처럼...\n",
      "\n",
      "🔎 크롤링 중: https://x.com/zesize/status/1770371301460656463\n",
      "→ 내용: 연두색 번호판 단 s650 봤는데 나름 또 힙함 ㅋㅋㅋ...\n",
      "\n",
      "✅ 크롤링 완료. 결과 저장: tweet_contents.csv\n"
     ]
    }
   ],
   "source": [
    "from selenium import webdriver\n",
    "from selenium.webdriver.chrome.service import Service\n",
    "from selenium.webdriver.chrome.options import Options\n",
    "from selenium.webdriver.common.by import By\n",
    "import time\n",
    "import csv\n",
    "import os\n",
    "\n",
    "# ✅ 크롬드라이버 경로 설정 (자동설치된 경로 사용)\n",
    "chrome_path = \"/Users/jangjinseul/miniconda3/lib/python3.12/site-packages/chromedriver_autoinstaller/135/chromedriver\"\n",
    "if not os.path.exists(chrome_path):\n",
    "    raise FileNotFoundError(\"❌ chromedriver 경로가 올바르지 않거나 존재하지 않습니다.\")\n",
    "\n",
    "# ✅ 드라이버 옵션 설정\n",
    "options = Options()\n",
    "# options.add_argument(\"--headless=new\")  # 테스트용이면 주석처리\n",
    "options.add_argument(\"--disable-gpu\")\n",
    "options.add_argument(\"--no-sandbox\")\n",
    "options.add_argument(\"--window-size=1920,1080\")\n",
    "options.add_argument('--lang=ko-KR')\n",
    "\n",
    "# ✅ 드라이버 실행\n",
    "driver = webdriver.Chrome(service=Service(chrome_path), options=options)\n",
    "\n",
    "# ✅ 트위터 링크 리스트\n",
    "pdf_links = [\n",
    "    \"https://x.com/RedcarWorker/status/1884438611892002832\",  \n",
    "    \"https://x.com/dcyu41/status/1833124532036809109\", \n",
    "    \"https://x.com/DrOMD/status/1884391832110666207\",    \n",
    "    \"https://x.com/unniecar/status/1799317501131759743\",  \n",
    "    \"https://x.com/jayinfrozen/status/1832312685893185879\",  \n",
    "    \"https://x.com/saemirae24/status/1819531443108041143\", \n",
    "    \"https://x.com/zesize/status/1770371301460656463\"\n",
    "]\n",
    "\n",
    "results = []\n",
    "\n",
    "for url in pdf_links:\n",
    "    print(f\"\\n🔎 크롤링 중: {url}\")\n",
    "    try:\n",
    "        driver.get(url)\n",
    "        time.sleep(5)\n",
    "\n",
    "        # ✅ 트윗 본문 찾기\n",
    "        tweet = driver.find_element(By.CSS_SELECTOR, 'article [data-testid=\"tweetText\"]')\n",
    "        text = tweet.text.strip()\n",
    "        print(f\"→ 내용: {text[:30]}...\")\n",
    "        results.append({\"url\": url, \"text\": text})\n",
    "    except Exception as e:\n",
    "        print(f\"❌ 실패: {url} → {e}\")\n",
    "        results.append({\"url\": url, \"text\": \"크롤링 실패\"})\n",
    "\n",
    "driver.quit()\n",
    "\n",
    "# ✅ 결과를 CSV로 저장\n",
    "output_path = \"tweet_contents.csv\"\n",
    "with open(output_path, \"w\", encoding=\"utf-8-sig\", newline=\"\") as f:\n",
    "    writer = csv.DictWriter(f, fieldnames=[\"url\", \"text\"])\n",
    "    writer.writeheader()\n",
    "    writer.writerows(results)\n",
    "\n",
    "print(f\"\\n✅ 크롤링 완료. 결과 저장: {output_path}\")\n"
   ]
  },
  {
   "cell_type": "code",
   "execution_count": 15,
   "id": "dedddc2f-ad67-420b-ace1-6372ff5eb12f",
   "metadata": {},
   "outputs": [
    {
     "name": "stdout",
     "output_type": "stream",
     "text": [
      "/Users/jangjinseul/Desktop/main project/SKN13-1st-5TEAM/SKN13_장진슬/스트림릿\n",
      "['twitter_twt_2.py', 'tweet_contents.csv', 'import sys.py', 'import sys 복사본 3.py', '.DS_Store', 'Untitled.ipynb', '유투브 댓글.py', 'comments.csv', 'twitter_twt.py', '.ipynb_checkpoints', '트위터 크롤링.ipynb', 'tweet_contents 복사본.csv', 'twitter_twt.pdf']\n"
     ]
    }
   ],
   "source": [
    "import os\n",
    "print(os.getcwd())\n",
    "print(os.listdir())\n"
   ]
  },
  {
   "cell_type": "code",
   "execution_count": null,
   "id": "b0165a02-a3f8-4997-99e6-a8c054d02d59",
   "metadata": {},
   "outputs": [],
   "source": []
  }
 ],
 "metadata": {
  "kernelspec": {
   "display_name": "Python (myenv)",
   "language": "python",
   "name": "myenv"
  },
  "language_info": {
   "codemirror_mode": {
    "name": "ipython",
    "version": 3
   },
   "file_extension": ".py",
   "mimetype": "text/x-python",
   "name": "python",
   "nbconvert_exporter": "python",
   "pygments_lexer": "ipython3",
   "version": "3.12.9"
  }
 },
 "nbformat": 4,
 "nbformat_minor": 5
}
