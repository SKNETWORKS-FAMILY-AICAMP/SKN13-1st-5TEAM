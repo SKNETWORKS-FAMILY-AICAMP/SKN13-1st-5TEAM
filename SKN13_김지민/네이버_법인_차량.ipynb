{
 "cells": [
  {
   "cell_type": "code",
   "execution_count": 4,
   "id": "a29d791e-ced2-49b4-b074-0c3ea1fffbf7",
   "metadata": {},
   "outputs": [
    {
     "name": "stdout",
     "output_type": "stream",
     "text": [
      "'?'가 포함된 질문 리스트:\n",
      "- 법인으로 차량 이전등록시 필요한 서류와 절차는 어떻게 되나요?\n",
      "- 법인이 차량을 매수할 때 필요한 서류는 무엇인가요?\n",
      "- 법인차량의 사용범위는 어떻게 되나요?\n",
      "- 법인이 차량을 구입할 때 어떤 방법이 유리한가요?\n",
      "- 법인차량을 매각할때 절차는 어떻게 되나요?\n",
      "- 법인차량의 명의이전은 어디서 할수있나요?\n",
      "- 법인차량구입시 어떤 이점이 있나요?\n",
      "- 법인차량 구입시 증빙자료는 뭐가 필요한가요?\n",
      "- 법인이 차량을 현금으로 구매할 때, 고려해야 할 사항은 무엇인가요?\n",
      "- 법인이 차량을 등록할 때 내는 세금은 무엇인가요?\n",
      "- 법인 차량 담보대출의 조건은 어떻게 되나요?\n",
      "- 법인차량을 구입하면 어떤 혜택이 있나요?\n",
      "- 법인차량 명의 변경시 필요한 절차는 무엇인가요?\n",
      "- 법인차량은 어떤 제한 조건이 없나요?\n",
      "- 법인차량을 운용하면 어떤 절세 효과가 있나요?\n",
      "- 법인차량은 어떤 자동차보험을 가입해야 세금혜택을 받을수 있나요?\n",
      "- 법인차량의 취득가액은 어떻게 산정하나요?\n",
      "- 법인차량 구매방법은 어떻게 되나요?\n",
      "- 법인차량을 구매할때 리스와 현금구매중 어떤게 유리 한가요?\n",
      "- 법인이 차량 리스 등을 이용하는 이유는 무엇인가요?\n"
     ]
    }
   ],
   "source": [
    "from selenium import webdriver\n",
    "from selenium.webdriver.common.by import By\n",
    "from selenium.webdriver.chrome.service import Service\n",
    "from selenium.webdriver.chrome.options import Options\n",
    "from selenium.webdriver.support.ui import WebDriverWait\n",
    "from selenium.webdriver.support import expected_conditions as EC\n",
    "from selenium.webdriver.common.action_chains import ActionChains\n",
    "import time\n",
    "\n",
    "lst = []\n",
    "# 크롬 설정\n",
    "options = Options()\n",
    "options.add_argument(\"--disable-gpu\")\n",
    "options.add_argument(\"start-maximized\")\n",
    "options.add_argument(\"disable-infobars\")\n",
    "options.add_argument(\"--disable-blink-features=AutomationControlled\")  # 자동화 감지 방지\n",
    "options.add_experimental_option(\"excludeSwitches\", [\"enable-automation\"])\n",
    "options.add_experimental_option('useAutomationExtension', False)\n",
    "\n",
    "service = Service(executable_path=\"chromedriver.exe\")  # 경로 확인\n",
    "\n",
    "driver = webdriver.Chrome(service=service, options=options)\n",
    "\n",
    "# 자동화 감지 우회용 자바스크립트\n",
    "driver.execute_cdp_cmd(\"Page.addScriptToEvaluateOnNewDocument\", {\n",
    "    \"source\": \"\"\"\n",
    "        Object.defineProperty(navigator, 'webdriver', {\n",
    "            get: () => undefined\n",
    "        })\n",
    "    \"\"\"\n",
    "})\n",
    "\n",
    "# 1. 네이버 검색\n",
    "url = \"https://search.naver.com/search.naver?query=법인+차량\"\n",
    "driver.get(url)\n",
    "\n",
    "try:\n",
    "    # 2. FAQ 더보기 버튼이 로딩될 때까지 대기\n",
    "    faq_more = WebDriverWait(driver, 10).until(\n",
    "        EC.element_to_be_clickable((\n",
    "            By.CSS_SELECTOR,\n",
    "            \"#main_pack > section.sc_new.sp_intent_faq._au_sp_intent_faq._prs_exB_soT > div > div.mod_more_wrap > a\"\n",
    "        ))\n",
    "    )\n",
    "\n",
    "    # 3. 마우스 오버 후 클릭 (사람처럼)\n",
    "    actions = ActionChains(driver)\n",
    "    actions.move_to_element(faq_more).pause(1).click().perform()\n",
    "\n",
    "    # 4. FAQ 페이지 로딩 대기\n",
    "    WebDriverWait(driver, 10).until(\n",
    "        EC.presence_of_element_located((By.CSS_SELECTOR, \"strong\"))\n",
    "    )\n",
    "    \n",
    "    time.sleep(1.5)  # 자연스러운 대기\n",
    "\n",
    "    # 5. 질문 제목 출력 및 \"?\" 포함 항목만 따로 저장\n",
    "    titles = driver.find_elements(By.CSS_SELECTOR, \"strong\")\n",
    "    question_titles = []\n",
    "\n",
    "    for title in titles:\n",
    "        text = title.text\n",
    "        # print(text)\n",
    "        if \"?\" in text:\n",
    "            question_titles.append(text)\n",
    "\n",
    "    print(\"'?'가 포함된 질문 리스트:\")\n",
    "    for q in question_titles:\n",
    "        lst.append(q)\n",
    "        print(\"-\", q)\n",
    "\n",
    "except Exception as e:\n",
    "    print(\"에러 발생:\", e)\n",
    "\n",
    "driver.quit()"
   ]
  },
  {
   "cell_type": "code",
   "execution_count": 5,
   "id": "2624280c-5a42-446b-880e-b122009e3ac8",
   "metadata": {},
   "outputs": [
    {
     "name": "stdout",
     "output_type": "stream",
     "text": [
      "CSV 파일 저장 완료\n"
     ]
    }
   ],
   "source": [
    "import pandas as pd\n",
    "\n",
    "# 데이터프레임 생성\n",
    "df = pd.DataFrame({\n",
    "    \"질문\": lst,\n",
    "    \"질문에 대한 대답\": [\"\"] * len(lst)  # 빈 문자열로 초기화\n",
    "})\n",
    "\n",
    "df.to_csv('법인 차량 FAQ 질문.csv', index=False, encoding='utf-8-sig')\n",
    "print(\"CSV 파일 저장 완료\")\n"
   ]
  },
  {
   "cell_type": "code",
   "execution_count": null,
   "id": "e4ef7ead-d22d-4c41-b4a3-e10a2e4a2d4d",
   "metadata": {},
   "outputs": [],
   "source": []
  }
 ],
 "metadata": {
  "kernelspec": {
   "display_name": "Python 3 (ipykernel)",
   "language": "python",
   "name": "python3"
  },
  "language_info": {
   "codemirror_mode": {
    "name": "ipython",
    "version": 3
   },
   "file_extension": ".py",
   "mimetype": "text/x-python",
   "name": "python",
   "nbconvert_exporter": "python",
   "pygments_lexer": "ipython3",
   "version": "3.12.9"
  }
 },
 "nbformat": 4,
 "nbformat_minor": 5
}
